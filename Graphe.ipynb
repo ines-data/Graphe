{
 "cells": [
  {
   "cell_type": "markdown",
   "metadata": {},
   "source": [
    "Exo Time .... Attrapes-moi si tu peux \n",
    "Contexte\n",
    "\n",
    "On appelle graphe la donnée d'un ensemble de points appelés sommets et d'un ensemble de lignes appelées arêtes qui relient certains sommets entre eux.\n",
    "\n",
    "Les bases\n",
    "\n",
    "Le nombre de sommets d'un graphe s'appelle l'ordre du graphe.\n",
    " - Deux sommets reliés entre eux par une arête sont dits adjacents.\n",
    " - Le degré d'un sommet est le nombre d'arêtes issues de ce sommet.\n",
    " - Un sommet qui n'est adjacent à aucun autre sommet du graphe est dit isolé.\n",
    "\n",
    "Un graphe est dit complet si deux sommets quelconques distincts sont toujours adjacents. Autrement dit, tous les sommets sont reliés deux à deux par une arête. Un graphe peut être orienté ou non-orienté. Dans un graphe orienté, chaque arête ne peut-être parcourue que dans un seul sens indiqué par une flèche. Un graphe (orienté ou non-orienté) peut contenir des boucles c'est-à-dire une arête dont l'origine et l'extrémité correspondent au même sommet (on a par exemple une boucle B sur la représentation précédente).\n",
    "\n",
    "Posons le problème\n",
    "\n",
    "Une possibilité pour représenter un graphe avec Python est d'utiliser un dictionnaire qui, à chaque sommet, associe un sous-dictionnaire composé de ses sommets adjacents associés à la pondération de l'arête incidente  \n",
    "Graphe_ = { \n",
    "     'A':{'B':2, 'C':1}, \n",
    "     'B':{'A':2, 'C':2, 'D':1, 'E':3}, \n",
    "     'C':{'A':1, 'B':2, 'D':4, 'E':3, 'F':5}, \n",
    "     'D':{'B':1, 'C':4, 'E':3, 'F':6, 'G':5}, \n",
    "     'E':{'B':3, 'C':3, 'D':3, 'F':1}, \n",
    "     'F':{'C':5, 'D':6, 'E':1, 'G':2}, \n",
    "     'G':{'D':5, 'F':2} }\n",
    "\n",
    "Ainsi Graphe'A' est le poids de l'arête incidente à A et B.(modifié)\n",
    "\n",
    "[12:56]\n",
    "Le parcours d'une telle structure permet de remplir ou vider deux dictionnaires. Le premier qui se remplira au fur et à mesure contiendra les sommets explorés (par exemple s_explore) et le second qui se videra au fur et à mesure contiendra les sommets à explorer (par exemple s_a_explorer).\n",
    "\n",
    "Certains problèmes consistent à chercher entre deux points donnés le parcours qui a une \"longueur\" (durée, coût, distance) minimum.\n",
    "Ces problèmes se ramènent à la recherche d'une chaîne ou d'un chemin de plus faible pondération entre deux sommets d'un graphe pondéré (les pondérations des arêtes étant toutes positives). On parlera de plus courte distance en interprétant les pondérations comme des distances entre les sommets.\n",
    "\n",
    "1. Suivant le graphe (Graphe_) définit précédemment, écrire les fonctions permettant de parcourir tous les nœuds de ce graphe, décrire ce que fait réellement votre fonction.\n",
    "\n",
    "2.Trouver 2 manière de parcourir un graphe de A à G. Quelle est la longueur de votre parcours\n",
    "\n",
    "3. Proposer une fonction qui permet de passer en argument \"de quel point à quel point\" on souhaite aller et une fonction qui permet d'afficher par quel point l'algorithme est allé, et quelle distance le parcours de l'algorithme représente.\n",
    "\n",
    "3. Un algorithme appelé \"Dijkstra\" permet de résoudre ce type de problème dans les graphes pondérés connexes et à pondérations positives. Implémenter cet algorithme."
   ]
  },
  {
   "cell_type": "code",
   "execution_count": 2,
   "metadata": {},
   "outputs": [
    {
     "name": "stdout",
     "output_type": "stream",
     "text": [
      "dict_keys(['A', 'B', 'C', 'D', 'E', 'F', 'G'])\n"
     ]
    },
    {
     "data": {
      "text/plain": [
       "{'B': 2, 'C': 1}"
      ]
     },
     "execution_count": 2,
     "metadata": {},
     "output_type": "execute_result"
    }
   ],
   "source": [
    "Graphe_ = { 'A':{'B':2, 'C':1}, 'B':{'A':2, 'C':2, 'D':1, 'E':3}, 'C':{'A':1, 'B':2, 'D':4, 'E':3, 'F':5}\n",
    "           , 'D':{'B':1, 'C':4, 'E':3, 'F':6, 'G':5}, 'E':{'B':3, 'C':3, 'D':3, 'F':1}\n",
    "           , 'F':{'C':5, 'D':6, 'E':1, 'G':2}, 'G':{'D':5, 'F':2} }\n",
    "print(Graphe_.keys())\n",
    "Graphe_['A']"
   ]
  },
  {
   "cell_type": "markdown",
   "metadata": {},
   "source": [
    "# Representation du Graphe_"
   ]
  },
  {
   "cell_type": "code",
   "execution_count": 55,
   "metadata": {},
   "outputs": [
    {
     "data": {
      "image/png": "[encoded data removed]",
      "text/plain": [
       "<Figure size 720x360 with 1 Axes>"
      ]
     },
     "metadata": {},
     "output_type": "display_data"
    }
   ],
   "source": [
    "import networkx as nx\n",
    "g = nx.Graph()\n",
    "for i, j in Graphe_.items():\n",
    "    for k in j:\n",
    "        g.add_edge( i,k )\n",
    "import matplotlib.pyplot as plt\n",
    "f, ax = plt.subplots(figsize=(10,5))\n",
    "nx.draw(g, ax = ax, with_labels=True, font_weight='bold')"
   ]
  },
  {
   "cell_type": "markdown",
   "metadata": {},
   "source": [
    "# Parcour en largeur"
   ]
  },
  {
   "cell_type": "code",
   "execution_count": 3,
   "metadata": {},
   "outputs": [
    {
     "name": "stdout",
     "output_type": "stream",
     "text": [
      "{'A': None, 'B': 'A', 'C': 'A', 'D': 'B', 'E': 'B', 'F': 'C', 'G': 'D'}\n",
      "{'B': None, 'A': 'B', 'C': 'B', 'D': 'B', 'E': 'B', 'F': 'C', 'G': 'D'}\n",
      "{'D': None, 'B': 'D', 'C': 'D', 'E': 'D', 'F': 'D', 'G': 'D', 'A': 'B'}\n",
      "{'F': None, 'C': 'F', 'D': 'F', 'E': 'F', 'G': 'F', 'A': 'C', 'B': 'C'}\n"
     ]
    }
   ],
   "source": [
    "def bfs(G, S):\n",
    "    couleur = dict()\n",
    "    for x in G :\n",
    "        couleur[x] = 'blanc'\n",
    "    P = dict()\n",
    "    P[S] = None\n",
    "    couleur[S] = 'gris'\n",
    "    Q = [S]\n",
    "    while Q :\n",
    "        u = Q[0]\n",
    "        for v in G[u]:\n",
    "            if couleur[v] == 'blanc':\n",
    "                P[v] = u\n",
    "                couleur[v] = 'gris'\n",
    "                Q.append(v)\n",
    "        Q.pop(0)\n",
    "        couleur[u] = 'noir'\n",
    "    return P\n",
    "\n",
    "print(bfs(Graphe_, 'A'))\n",
    "print(bfs(Graphe_, 'B'))\n",
    "print(bfs(Graphe_, 'D'))\n",
    "print(bfs(Graphe_, 'F'))"
   ]
  },
  {
   "cell_type": "markdown",
   "metadata": {},
   "source": [
    "# Mes propres fonctions pour le Parcour en Largeur"
   ]
  },
  {
   "cell_type": "code",
   "execution_count": 61,
   "metadata": {},
   "outputs": [
    {
     "name": "stdout",
     "output_type": "stream",
     "text": [
      "marque avant l'application de la fonction parcour_largeur =  \n",
      " {'A': False, 'B': False, 'C': False, 'D': False, 'E': False, 'F': False, 'G': False}\n",
      "--------------------------------------------\n",
      "Parcour en largeur avec comme sommet de départ F  \n",
      " Résultat filnal file = []  \n",
      " Résulat final marque ={'A': True, 'B': True, 'C': True, 'D': True, 'E': True, 'F': True, 'G': True} \n",
      " Résultat final visité = ['C', 'D', 'E', 'G', 'A', 'B']\n",
      "None\n"
     ]
    }
   ],
   "source": [
    "# def parcour_largeur(Graph_, 'A')\n",
    "\n",
    "# créer le marqueur(initialiser les sommets à False) en dictionnaire\n",
    "def marque_dict(graph):\n",
    "    KEYS = []\n",
    "    DICTIONARY = {} \n",
    "    for i in graph.keys():\n",
    "        KEYS.append(i)\n",
    "        for each in KEYS:\n",
    "            DICTIONARY[each]=False\n",
    "    return DICTIONARY\n",
    "marque = marque_dict(Graphe_)#marque={'A':False,'B':False,'C':False,'D':False,'E':False,'F':False,'G':False}\n",
    "print(\"marque avant l'application de la fonction parcour_largeur = \", '\\n',marque)\n",
    "print((\"--------------------------------------------\"))\n",
    "\n",
    "file=[]\n",
    "visite=[]\n",
    "\n",
    "def parcour_largeur(graph, sommet):\n",
    "    marque[sommet]=True\n",
    "    #sommet ='A'\n",
    "    file = [sommet]\n",
    "    file.append(sommet)\n",
    "    \n",
    "    while len(file)!=0:\n",
    "        u=file[0]\n",
    "        for v in Graphe_[u]:\n",
    "            if marque[v] == False:\n",
    "                marque[v]=True\n",
    "                file.extend(v) \n",
    "                visite.extend(v)      \n",
    "        file.pop(0)\n",
    "    return print(\"Parcour en largeur avec comme sommet de départ {} \".format(sommet),'\\n',\"Résultat filnal file = {} \".format(file),'\\n',\"Résulat final marque ={}\".format(marque),'\\n',\"Résultat final visité = {}\".format(visite))\n",
    "\n",
    "#print(parcour_largeur(Graphe_,'A'))\n",
    "#print(parcour_largeur(Graphe_,'B'))\n",
    "print(parcour_largeur(Graphe_,'F'))"
   ]
  },
  {
   "cell_type": "markdown",
   "metadata": {},
   "source": [
    "# Parcour en Profondeur"
   ]
  },
  {
   "cell_type": "code",
   "execution_count": 35,
   "metadata": {},
   "outputs": [
    {
     "name": "stdout",
     "output_type": "stream",
     "text": [
      "{'A': None, 'B': 'A', 'C': 'B', 'D': 'C', 'E': 'D', 'F': 'E', 'G': 'F'}\n",
      "{'B': None, 'A': 'B', 'C': 'A', 'D': 'C', 'E': 'D', 'F': 'E', 'G': 'F'}\n",
      "{'D': None, 'B': 'D', 'A': 'B', 'C': 'A', 'E': 'C', 'F': 'E', 'G': 'F'}\n",
      "{'F': None, 'C': 'F', 'A': 'C', 'B': 'A', 'D': 'B', 'E': 'D', 'G': 'D'}\n",
      "{'C': None, 'A': 'C', 'B': 'A', 'D': 'B', 'E': 'D', 'F': 'E', 'G': 'F'}\n"
     ]
    }
   ],
   "source": [
    "\n",
    "def dfs(G,s) :\n",
    "    couleur=dict()\n",
    "    for v in G :couleur[v]='blanc'\n",
    "    P=dict()\n",
    "    P[s]=None\n",
    "    couleur[s]='gris'\n",
    "    Q=[s]\n",
    "    while Q :\n",
    "        u=Q[-1]\n",
    "        R=[y for y in G[u] if couleur[y]=='blanc']\n",
    "        if R :\n",
    "            v=R[0]\n",
    "            couleur[v]='gris'\n",
    "            P[v]=u\n",
    "            Q.append(v)\n",
    "        else :\n",
    "            Q.pop()\n",
    "            couleur[u]='noir'\n",
    "    return P\n",
    "\n",
    "print(dfs(Graphe_, 'A'))\n",
    "print(dfs(Graphe_, 'B'))\n",
    "print(dfs(Graphe_, 'D'))\n",
    "print(dfs(Graphe_, 'F'))\n",
    "print(dfs(Graphe_, 'C'))\n"
   ]
  },
  {
   "cell_type": "markdown",
   "metadata": {},
   "source": [
    "# Mes propres fonctions pour le Parcour en Profondeur"
   ]
  },
  {
   "cell_type": "code",
   "execution_count": 59,
   "metadata": {},
   "outputs": [
    {
     "name": "stdout",
     "output_type": "stream",
     "text": [
      "marque avant l'application de la fonction parcour_largeur =  \n",
      " {'A': False, 'B': False, 'C': False, 'D': False, 'E': False, 'F': False, 'G': False}\n",
      "---------------------------------------------\n",
      "Parcour en largeur avec comme sommet de départ C  \n",
      " Résultat filnal pile = []  \n",
      " Résulat final marque ={'A': True, 'B': True, 'C': True, 'D': True, 'E': True, 'F': True, 'G': True} \n",
      " Résultat final visité = ['A', 'B', 'D', 'E', 'F', 'G']\n",
      "None\n"
     ]
    }
   ],
   "source": [
    "# def parcour_profondeur(Graph_, 'A') en pile\n",
    "\n",
    "# créer le marqueur(initialiser les sommets à False) en dictionnaire\n",
    "def marque_dict(graph):\n",
    "    KEYS = []\n",
    "    DICTIONARY = {} \n",
    "    for i in graph.keys():\n",
    "        KEYS.append(i)\n",
    "        for each in KEYS:\n",
    "            DICTIONARY[each]=False\n",
    "    return DICTIONARY\n",
    "marque = marque_dict(Graphe_)#marque={'A':False,'B':False,'C':False,'D':False,'E':False,'F':False,'G':False}\n",
    "print(\"marque avant l'application de la fonction parcour_largeur = \", '\\n',marque)\n",
    "print(\"---------------------------------------------\")\n",
    "\n",
    "\n",
    "\n",
    "def parcour_profondeur(graph, sommet):\n",
    "    marque[sommet]=True\n",
    "    pile = []\n",
    "    pile.append(sommet)\n",
    "    visite=[]\n",
    "    while len(pile)!=0:\n",
    "        u=pile[-1]\n",
    "        for v in Graphe_[u]:\n",
    "            if marque[v] == False:\n",
    "                marque[v]=True\n",
    "                pile.append(v) \n",
    "                visite.append(v)      \n",
    "        pile.pop()\n",
    "    return print(\"Parcour en largeur avec comme sommet de départ {} \".format(sommet),'\\n',\"Résultat filnal pile = {} \".format(pile),'\\n',\"Résulat final marque ={}\".format(marque),'\\n',\"Résultat final visité = {}\".format(visite))\n",
    "\n",
    "#print(parcour_profondeur(Graphe_,'A'))\n",
    "#print(parcour_profondeur(Graphe_,'B'))\n",
    "#print(parcour_profondeur(Graphe_,'D'))\n",
    "#print(parcour_profondeur(Graphe_,'F'))\n",
    "#print(parcour_profondeur(Graphe_,'C'))"
   ]
  },
  {
   "cell_type": "markdown",
   "metadata": {},
   "source": [
    "# Distance parcour en largeur "
   ]
  },
  {
   "cell_type": "code",
   "execution_count": 460,
   "metadata": {},
   "outputs": [
    {
     "name": "stdout",
     "output_type": "stream",
     "text": [
      "distance =  14\n",
      "None\n"
     ]
    }
   ],
   "source": [
    "# distance Largeur\n",
    "\n",
    "from collections import deque\n",
    "\n",
    "def distance_largeur(graph, start):\n",
    " \n",
    "    visited = []\n",
    "    queue = deque()\n",
    "    queue.append(start)\n",
    "    ite_test1 = 0\n",
    "    dist = []\n",
    "\n",
    "    while queue:\n",
    "        node = queue.popleft()\n",
    "        if node not in visited:\n",
    "            visited.append(node)\n",
    "            unvisited = [n for n in graph[node] if n not in visited]\n",
    "            queue.extend(unvisited)\n",
    "        #calculer le nombre d'itérations\n",
    "        \n",
    "        def calcul_iteration():\n",
    "            ite_test1 = 0\n",
    "            for ite in test1(0):\n",
    "                ite_test1 += 1\n",
    "                dist = [ite_test1]\n",
    "            return dist\n",
    "        dist.append(ite_test1)\n",
    "    return len(dist)\n",
    "\n",
    "print(print('distance = ', distance_largeur(Graphe_, 'F')))"
   ]
  },
  {
   "cell_type": "markdown",
   "metadata": {},
   "source": [
    "# Distance avec ma propre fonction"
   ]
  },
  {
   "cell_type": "code",
   "execution_count": 40,
   "metadata": {},
   "outputs": [
    {
     "name": "stdout",
     "output_type": "stream",
     "text": [
      "Distance du parcour en largeur = 7 \n",
      "None\n"
     ]
    }
   ],
   "source": [
    "# def parcour_largeur(Graph_, 'A')\n",
    "\n",
    "# créer le marqueur(initialiser les sommets à False) en dictionnaire\n",
    "def marque_dict(graph):\n",
    "    KEYS = []\n",
    "    DICTIONARY = {} \n",
    "    for i in graph.keys():\n",
    "        KEYS.append(i)\n",
    "        for each in KEYS:\n",
    "            DICTIONARY[each]=False\n",
    "    return DICTIONARY\n",
    "marque = marque_dict(Graphe_)#marque={'A':False,'B':False,'C':False,'D':False,'E':False,'F':False,'G':False}\n",
    "#print(\"marque avant l'application de la fonction parcour_largeur = \", '\\n',marque)\n",
    "file=[]\n",
    "visite=[]\n",
    "\n",
    "\n",
    "\n",
    "def parcour_largeur(graph, sommet):\n",
    "    marque[sommet]=True\n",
    "    file = [sommet]\n",
    "    file.append(sommet)\n",
    "    distance = 0\n",
    "    \n",
    "    while len(file)!=0:\n",
    "        u=file[0]\n",
    "        distance = len(visite) + 1\n",
    "        for v in Graphe_[u]:\n",
    "            if marque[v] == False:\n",
    "                marque[v]=True\n",
    "                file.extend(v) \n",
    "                visite.extend(v)\n",
    "\n",
    "        file.pop(0)\n",
    "        \n",
    "    return print(\"Distance du parcour en largeur = {} \".format(distance))\n",
    "\n",
    "print(parcour_largeur(Graphe_,'A'))\n",
    "#print(parcour_largeur(Graphe_,'B'))\n",
    "#print(parcour_largeur(Graphe_,'F'))"
   ]
  },
  {
   "cell_type": "markdown",
   "metadata": {},
   "source": [
    "# Distance parcour en profondeur"
   ]
  },
  {
   "cell_type": "code",
   "execution_count": 62,
   "metadata": {},
   "outputs": [
    {
     "name": "stdout",
     "output_type": "stream",
     "text": [
      "marque avant l'application de la fonction parcour_largeur =  \n",
      " {'A': False, 'B': False, 'C': False, 'D': False, 'E': False, 'F': False, 'G': False}\n",
      "---------------------------------------------\n",
      "Distance du parcour en profondeur = 7 \n",
      "None\n"
     ]
    }
   ],
   "source": [
    "# def parcour_profondeur(Graph_, 'A') en pile\n",
    "\n",
    "# créer le marqueur(initialiser les sommets à False) en dictionnaire\n",
    "def marque_dict(graph):\n",
    "    KEYS = []\n",
    "    DICTIONARY = {} \n",
    "    for i in graph.keys():\n",
    "        KEYS.append(i)\n",
    "        for each in KEYS:\n",
    "            DICTIONARY[each]=False\n",
    "    return DICTIONARY\n",
    "marque = marque_dict(Graphe_)#marque={'A':False,'B':False,'C':False,'D':False,'E':False,'F':False,'G':False}\n",
    "print(\"marque avant l'application de la fonction parcour_largeur = \", '\\n',marque)\n",
    "print(\"---------------------------------------------\")\n",
    "pile=[]\n",
    "visite=[]\n",
    "#marque[sommet]=True\n",
    "#sommet ='A'\n",
    "#file.append(sommet)\n",
    "\n",
    "\n",
    "def parcour_profondeur(graph, sommet):\n",
    "    marque[sommet]=True\n",
    "    #sommet ='A'\n",
    "    pile = []\n",
    "    visite=[]\n",
    "    pile.append(sommet)\n",
    "    distance1 = 0\n",
    "    \n",
    "    while len(pile)!=0:\n",
    "        u=pile[-1]\n",
    "        distance1 = len(visite) + 1\n",
    "        for v in Graphe_[u]:\n",
    "            #visite.extend(sommet)\n",
    "            if marque[v] == False:\n",
    "                marque[v]=True\n",
    "                pile.append(v) \n",
    "                visite.append(v)      \n",
    "        pile.pop()\n",
    "    return print(\"Distance du parcour en profondeur = {} \".format(distance1))\n",
    "\n",
    "#print(parcour_profondeur(Graphe_,'A'))\n",
    "print(parcour_profondeur(Graphe_,'B'))\n",
    "#print(parcour_profondeur(Graphe_,'D'))\n",
    "#print(parcour_profondeur(Graphe_,'F'))\n",
    "##print(parcour_profondeur(Graphe_,'C'))"
   ]
  },
  {
   "cell_type": "markdown",
   "metadata": {},
   "source": [
    "# Afficher tous les chemin possibles (largeur)"
   ]
  },
  {
   "cell_type": "code",
   "execution_count": 51,
   "metadata": {},
   "outputs": [
    {
     "name": "stdout",
     "output_type": "stream",
     "text": [
      "Le nombre de chemin possible(largeur) =  16\n",
      "['A', 'C', 'F']\n",
      "['A', 'B', 'C', 'F']\n",
      "['A', 'B', 'D', 'F']\n",
      "['A', 'B', 'E', 'F']\n",
      "['A', 'C', 'D', 'F']\n",
      "['A', 'C', 'E', 'F']\n",
      "['A', 'B', 'C', 'D', 'F']\n",
      "['A', 'B', 'C', 'E', 'F']\n",
      "['A', 'B', 'D', 'C', 'F']\n",
      "['A', 'B', 'D', 'E', 'F']\n",
      "['A', 'B', 'D', 'G', 'F']\n",
      "['A', 'B', 'E', 'C', 'F']\n",
      "['A', 'B', 'E', 'D', 'F']\n",
      "['A', 'C', 'B', 'D', 'F']\n",
      "['A', 'C', 'B', 'E', 'F']\n",
      "['A', 'C', 'D', 'E', 'F']\n",
      "['A', 'C', 'D', 'G', 'F']\n",
      "['A', 'C', 'E', 'D', 'F']\n",
      "['A', 'B', 'C', 'D', 'E', 'F']\n",
      "['A', 'B', 'C', 'D', 'G', 'F']\n",
      "['A', 'B', 'C', 'E', 'D', 'F']\n",
      "['A', 'B', 'D', 'C', 'E', 'F']\n",
      "['A', 'B', 'D', 'E', 'C', 'F']\n",
      "['A', 'B', 'E', 'C', 'D', 'F']\n",
      "['A', 'B', 'E', 'D', 'C', 'F']\n",
      "['A', 'B', 'E', 'D', 'G', 'F']\n",
      "['A', 'C', 'B', 'D', 'E', 'F']\n",
      "['A', 'C', 'B', 'D', 'G', 'F']\n",
      "['A', 'C', 'B', 'E', 'D', 'F']\n",
      "['A', 'C', 'D', 'B', 'E', 'F']\n",
      "['A', 'C', 'E', 'B', 'D', 'F']\n",
      "['A', 'C', 'E', 'D', 'G', 'F']\n",
      "['A', 'B', 'C', 'E', 'D', 'G', 'F']\n",
      "['A', 'B', 'E', 'C', 'D', 'G', 'F']\n",
      "['A', 'C', 'B', 'E', 'D', 'G', 'F']\n",
      "['A', 'C', 'E', 'B', 'D', 'G', 'F']\n"
     ]
    }
   ],
   "source": [
    "from collections import deque\n",
    "\n",
    "\n",
    "def chemin_largeur(graph, start, end):\n",
    "\n",
    "    queue = deque()\n",
    "    queue.append((start, [start]))\n",
    "\n",
    "    while queue:\n",
    "        node, path = queue.popleft()\n",
    "        adjacent_nodes = [n for n in graph[node] if n not in path]\n",
    "        for adjacent_node in adjacent_nodes:\n",
    "            if adjacent_node == end:\n",
    "                yield path + [adjacent_node]\n",
    "            else:\n",
    "                queue.append((adjacent_node, path + [adjacent_node]))\n",
    "\n",
    "    return queue\n",
    "                \n",
    "print(\"Le nombre de chemin possible(largeur) = \",len(list(chemin_largeur(Graphe_, 'A', 'C'))))\n",
    "#print(list(chemin_largeur(Graphe_, 'A', 'C')))\n",
    "for i in chemin_largeur(Graphe_,'A','F'):\n",
    "    print(i)"
   ]
  },
  {
   "cell_type": "markdown",
   "metadata": {},
   "source": [
    "# Le chemin le plus court (largeur)"
   ]
  },
  {
   "cell_type": "code",
   "execution_count": 63,
   "metadata": {},
   "outputs": [
    {
     "name": "stdout",
     "output_type": "stream",
     "text": [
      "Le chemin le plus court(largeur) :  ['A', 'C', 'F']\n"
     ]
    }
   ],
   "source": [
    "from collections import deque\n",
    "\n",
    "\n",
    "def chemin_largeur(graph, start, end):\n",
    "\n",
    "    queue = deque()\n",
    "    queue.append((start, [start]))\n",
    "\n",
    "    while queue:\n",
    "        node, path = queue.popleft()\n",
    "        adjacent_nodes = [n for n in graph[node] if n not in path]\n",
    "        for adjacent_node in adjacent_nodes:\n",
    "            if adjacent_node == end:\n",
    "                return path + [adjacent_node]#j'ai remplacé yield par return afin d'avoir le chemin le plus court\n",
    "            else:\n",
    "                queue.append((adjacent_node, path + [adjacent_node]))\n",
    "                #print(queue)\n",
    "    return list(queue)\n",
    "                \n",
    "\n",
    "print(\"Le chemin le plus court(largeur) : \",chemin_largeur(Graphe_,'A','F'))"
   ]
  },
  {
   "cell_type": "markdown",
   "metadata": {},
   "source": [
    "# Afficher tous les chemin possibles (profondeur)"
   ]
  },
  {
   "cell_type": "code",
   "execution_count": 21,
   "metadata": {},
   "outputs": [
    {
     "name": "stdout",
     "output_type": "stream",
     "text": [
      "Le nombre de chemin possible(profondeur) =  36\n",
      "['A', 'C', 'F']\n",
      "['A', 'C', 'E', 'F']\n",
      "['A', 'C', 'E', 'D', 'F']\n",
      "['A', 'C', 'E', 'D', 'G', 'F']\n",
      "['A', 'C', 'E', 'B', 'D', 'F']\n",
      "['A', 'C', 'E', 'B', 'D', 'G', 'F']\n",
      "['A', 'C', 'D', 'F']\n",
      "['A', 'C', 'D', 'G', 'F']\n",
      "['A', 'C', 'D', 'E', 'F']\n",
      "['A', 'C', 'D', 'B', 'E', 'F']\n",
      "['A', 'C', 'B', 'E', 'F']\n",
      "['A', 'C', 'B', 'E', 'D', 'F']\n",
      "['A', 'C', 'B', 'E', 'D', 'G', 'F']\n",
      "['A', 'C', 'B', 'D', 'F']\n",
      "['A', 'C', 'B', 'D', 'G', 'F']\n",
      "['A', 'C', 'B', 'D', 'E', 'F']\n",
      "['A', 'B', 'E', 'F']\n",
      "['A', 'B', 'E', 'D', 'F']\n",
      "['A', 'B', 'E', 'D', 'G', 'F']\n",
      "['A', 'B', 'E', 'D', 'C', 'F']\n",
      "['A', 'B', 'E', 'C', 'F']\n",
      "['A', 'B', 'E', 'C', 'D', 'F']\n",
      "['A', 'B', 'E', 'C', 'D', 'G', 'F']\n",
      "['A', 'B', 'D', 'F']\n",
      "['A', 'B', 'D', 'G', 'F']\n",
      "['A', 'B', 'D', 'E', 'F']\n",
      "['A', 'B', 'D', 'E', 'C', 'F']\n",
      "['A', 'B', 'D', 'C', 'F']\n",
      "['A', 'B', 'D', 'C', 'E', 'F']\n",
      "['A', 'B', 'C', 'F']\n",
      "['A', 'B', 'C', 'E', 'F']\n",
      "['A', 'B', 'C', 'E', 'D', 'F']\n",
      "['A', 'B', 'C', 'E', 'D', 'G', 'F']\n",
      "['A', 'B', 'C', 'D', 'F']\n",
      "['A', 'B', 'C', 'D', 'G', 'F']\n",
      "['A', 'B', 'C', 'D', 'E', 'F']\n"
     ]
    }
   ],
   "source": [
    "from collections import deque\n",
    "\n",
    "def chemin_profondeur(graph, start, end):\n",
    "\n",
    "    stack = deque()\n",
    "    stack.append((start, [start]))\n",
    "\n",
    "    while stack:\n",
    "        (node, path) = stack.pop()\n",
    "        adjacent_nodes = [n for n in graph[node] if n not in path]\n",
    "        for adjacent_node in adjacent_nodes:\n",
    "            if adjacent_node == end:\n",
    "                yield path + [adjacent_node]\n",
    "            else:\n",
    "                stack.append((adjacent_node, path + [adjacent_node]))\n",
    "        \n",
    "print(\"Le nombre de chemin possible(profondeur) = \",len(list(chemin_profondeur(Graphe_, 'A', 'F'))))\n",
    "\n",
    "for i in chemin_profondeur(Graphe_,'A', 'F'):\n",
    "    print(i)"
   ]
  },
  {
   "cell_type": "markdown",
   "metadata": {},
   "source": [
    "# Le chemin le plus court (profondeur)"
   ]
  },
  {
   "cell_type": "code",
   "execution_count": 26,
   "metadata": {},
   "outputs": [
    {
     "name": "stdout",
     "output_type": "stream",
     "text": [
      "Le chemin le plus court(profondeur) : ['A', 'C', 'F']\n"
     ]
    }
   ],
   "source": [
    "from collections import deque\n",
    "\n",
    "def chemin_profondeur(graph, start, end):\n",
    "\n",
    "    stack = deque()\n",
    "    stack.append((start, [start]))\n",
    "\n",
    "    while stack:\n",
    "        (node, path) = stack.pop()\n",
    "        adjacent_nodes = [n for n in graph[node] if n not in path]\n",
    "        for adjacent_node in adjacent_nodes:\n",
    "            if adjacent_node == end:\n",
    "                return path + [adjacent_node]\n",
    "            else:\n",
    "                stack.append((adjacent_node, path + [adjacent_node]))\n",
    "        \n",
    "\n",
    "print(\"Le chemin le plus court(profondeur) :\",chemin_profondeur(Graphe_, 'A', 'F'))"
   ]
  },
  {
   "cell_type": "markdown",
   "metadata": {},
   "source": [
    "# Algorithme de \"Dijkstra\" "
   ]
  },
  {
   "cell_type": "code",
   "execution_count": 38,
   "metadata": {},
   "outputs": [
    {
     "name": "stdout",
     "output_type": "stream",
     "text": [
      "Dans le graphe d'origine A dont les arcs sont :\n",
      "A : {'B': 2, 'C': 1}\n",
      "B : {'A': 2, 'C': 2, 'D': 1, 'E': 3}\n",
      "C : {'A': 1, 'B': 2, 'D': 4, 'E': 3, 'F': 5}\n",
      "D : {'B': 1, 'C': 4, 'E': 3, 'F': 6, 'G': 5}\n",
      "E : {'B': 3, 'C': 3, 'D': 3, 'F': 1}\n",
      "F : {'C': 5, 'D': 6, 'E': 1, 'G': 2}\n",
      "G : {'D': 5, 'F': 2}\n",
      "\n",
      "Plus courts chemin de\n",
      "longueur 1 : A -> C\n",
      "longueur 2 : A -> B\n",
      "longueur 3 : A -> B -> D\n",
      "longueur 4 : A -> C -> E\n",
      "longueur 5 : A -> C -> E -> F\n",
      "longueur 7 : A -> C -> E -> F -> G\n",
      "\n"
     ]
    },
    {
     "data": {
      "text/plain": [
       "{'A': [0, ['A']],\n",
       " 'C': [1, ['A', 'C']],\n",
       " 'B': [2, ['A', 'B']],\n",
       " 'D': [3, ['A', 'B', 'D']],\n",
       " 'E': [4, ['A', 'C', 'E']],\n",
       " 'F': [5, ['A', 'C', 'E', 'F']],\n",
       " 'G': [7, ['A', 'C', 'E', 'F', 'G']]}"
      ]
     },
     "execution_count": 38,
     "metadata": {},
     "output_type": "execute_result"
    }
   ],
   "source": [
    "def moore_dijkstra_1(G, s):\n",
    "    inf = sum(sum(G[sommet][i] for i in G[sommet]) for sommet in G) + 1\n",
    "        #On considère comme \"infini\" un majorant de la somme de toutes les\n",
    "        #pondérations du graphe\n",
    "    s_explore = {s : [0, [s]]}\n",
    "        #On associe au sommet d'origine s la liste [longueur, plus court chemin]\n",
    "    s_a_explorer = {j : [inf, \"\"] for j in G if j != s}\n",
    "        #On associe à chaque sommet j à explorer la liste [longueur, sommet précédent]\n",
    "    for suivant in G[s]:\n",
    "        s_a_explorer[suivant] = [G[s][suivant], s]\n",
    "\n",
    "    print(\"Dans le graphe d\\'origine {} dont les arcs sont :\".format(s))\n",
    "    for k in G:\n",
    "        print(k, \":\", G[k])\n",
    "    print()\n",
    "    print(\"Plus courts chemin de\")\n",
    "\n",
    "    #On créé une boucle qui tourne tant que la liste des sommets à explorer contient\n",
    "    #des points tels que la longueur provisoire calculée depuis l'origine est\n",
    "    #inférieure à l'infini\n",
    "    while s_a_explorer and any(s_a_explorer[k][0] < inf for k in s_a_explorer):\n",
    "        s_min = min(s_a_explorer, key = s_a_explorer.get)\n",
    "        longueur_s_min, precedent_s_min = s_a_explorer[s_min]\n",
    "        for successeur in G[s_min]:\n",
    "            if successeur in s_a_explorer:\n",
    "                dist = longueur_s_min + G[s_min][successeur]\n",
    "                if dist < s_a_explorer[successeur][0]:\n",
    "                    s_a_explorer[successeur] = [dist, s_min]\n",
    "        s_explore[s_min] = [longueur_s_min, s_explore[precedent_s_min][1] + [s_min]]\n",
    "        del s_a_explorer[s_min]\n",
    "        print(\"longueur\", longueur_s_min, \":\", \" -> \".join(s_explore[s_min][1]))\n",
    "\n",
    "    for k in s_a_explorer:\n",
    "        print(\"Il n\\'y a aucun chemin de {} à {}\".format(s, k))\n",
    "    print()\n",
    "\n",
    "    return s_explore\n",
    "\n",
    "\n",
    "\n",
    "\n",
    "moore_dijkstra_1(Graphe_, 'A')"
   ]
  },
  {
   "cell_type": "markdown",
   "metadata": {},
   "source": [
    "# Algorithme de \"Dijkstra\"  d'un sommet à un autre"
   ]
  },
  {
   "cell_type": "code",
   "execution_count": 64,
   "metadata": {},
   "outputs": [
    {
     "name": "stdout",
     "output_type": "stream",
     "text": [
      "p = {'A': None, 'B': 'A', 'C': 'A', 'D': 'B', 'E': 'C', 'F': 'E', 'G': 'D'}\n",
      "marque= {'A': 0, 'B': 2, 'C': 1, 'D': 3, 'E': 4, 'F': 5, 'G': 8}\n",
      "La distance de A à F est de longueur 5.\n",
      "\n",
      "Le chemin de A à F: ACEF.\n"
     ]
    }
   ],
   "source": [
    "from math import inf\n",
    "\n",
    "\n",
    "\n",
    "def mini(listeSommets, marque):\n",
    "    \"\"\"\n",
    "    Renvoie le sommet de listeSommets\n",
    "    ayant la plus petite marque.\n",
    "    \"\"\"\n",
    "    marquePlusPetite = inf\n",
    "    for s in listeSommets:\n",
    "        if marque[s] < marquePlusPetite:\n",
    "            marquePlusPetite = marque[s]\n",
    "            sommetPlusPetit = s\n",
    "    return sommetPlusPetit\n",
    "\n",
    "\n",
    "def dijkstra(graphe, depart, arrivee):\n",
    "\n",
    "    # initialisation\n",
    "    marque = {}\n",
    "    for sommet in graphe: marque[sommet] = inf\n",
    "    marque[depart] = 0\n",
    "\n",
    "    non_selectionnes = [sommet for sommet in graphe]\n",
    "\n",
    "    pere = {}\n",
    "    pere[depart] = None\n",
    "\n",
    "    # boucle principale:\n",
    "    while non_selectionnes:\n",
    "        # sélection:\n",
    "        s = mini(non_selectionnes, marque)\n",
    "        if s == arrivee: break\n",
    "        non_selectionnes.remove(s)\n",
    "\n",
    "        # mise à jour des voisins du sommet sélectionné:\n",
    "        VoisinsAVisiter = [sommet for sommet in graphe[s] if sommet in non_selectionnes]\n",
    "        for sommet in VoisinsAVisiter:\n",
    "            p = marque[s] + graphe[s][sommet]\n",
    "            if p < marque[sommet]:\n",
    "                marque[sommet] = p\n",
    "                pere[sommet] = s\n",
    "    print(\"p =\",pere)\n",
    "    print(\"marque=\",marque)\n",
    "    return marque, pere\n",
    "\n",
    "\n",
    "def affichageCheminMin(graphe, depart, arrivee):\n",
    "    distance, pere = dijkstra(graphe, depart, arrivee)\n",
    "    print(\"La distance de {} à {} est de longueur {}.\".format(depart, arrivee, distance[arrivee]))\n",
    "    chemin = arrivee\n",
    "    sommet = arrivee\n",
    "    while pere[sommet] != None:\n",
    "        chemin = pere[sommet] + chemin\n",
    "        sommet = pere[sommet]\n",
    "    print()\n",
    "    print(\"Le chemin de {} à {}: {}.\".format(depart, arrivee,chemin))\n",
    "\n",
    "\n",
    "affichageCheminMin(Graphe_, 'A', 'F')"
   ]
  },
  {
   "cell_type": "code",
   "execution_count": null,
   "metadata": {},
   "outputs": [],
   "source": []
  }
 ],
 "metadata": {
  "kernelspec": {
   "display_name": "Python 3",
   "language": "python",
   "name": "python3"
  },
  "language_info": {
   "codemirror_mode": {
    "name": "ipython",
    "version": 3
   },
   "file_extension": ".py",
   "mimetype": "text/x-python",
   "name": "python",
   "nbconvert_exporter": "python",
   "pygments_lexer": "ipython3",
   "version": "3.8.5"
  }
 },
 "nbformat": 4,
 "nbformat_minor": 4
}
